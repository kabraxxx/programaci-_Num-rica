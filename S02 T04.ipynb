{
 "cells": [
  {
   "cell_type": "markdown",
   "id": "e4516ccd",
   "metadata": {},
   "source": [
    "# S02 T04: Pràctica amb programació numèrica #"
   ]
  },
  {
   "cell_type": "markdown",
   "id": "86788cb1",
   "metadata": {},
   "source": [
    "Familiaritza't amb la Programació Numèrica a través de la llibreria NumPy."
   ]
  },
  {
   "cell_type": "markdown",
   "id": "283d62fc",
   "metadata": {},
   "source": [
    "## Nivell 1 ##"
   ]
  },
  {
   "cell_type": "markdown",
   "id": "8851d4c4",
   "metadata": {},
   "source": [
    "### - Exercici 1 ###"
   ]
  },
  {
   "cell_type": "markdown",
   "id": "ea162fcf",
   "metadata": {},
   "source": [
    "Crea una funció que donat un Array d’una dimensió, et faci un resum estadístic bàsic de les dades. Si detecta que l’array té més d’una dimensió, ha de mostrar un missatge d’error."
   ]
  },
  {
   "cell_type": "code",
   "execution_count": 115,
   "id": "73ee1fb8",
   "metadata": {},
   "outputs": [
    {
     "name": "stdout",
     "output_type": "stream",
     "text": [
      "shape: (4,)\n",
      "len: 4\n",
      "ndim: 1\n",
      "size: 4\n",
      "dtype: int32\n",
      "sum: 11\n",
      "min: 1\n",
      "max: 5\n",
      "media: 2.75\n",
      "Correlation coefficient: 1.0\n",
      "Standard deviation: 1.479019945774904\n"
     ]
    }
   ],
   "source": [
    "import numpy as np\n",
    "\n",
    "def printStatisticsOfArray(arr):\n",
    "    print(\"shape:\",arr.shape)\n",
    "    print(\"len:\",len(arr))\n",
    "    print(\"ndim:\",arr.ndim)\n",
    "    print(\"size:\",arr.size)\n",
    "    print(\"dtype:\",arr.dtype)\n",
    "    print(\"sum:\",arr.sum())\n",
    "    print(\"min:\",arr.min())\n",
    "    print(\"max:\",arr.max())\n",
    "    print(\"media:\",arr.mean())\n",
    "    print(\"Correlation coefficient:\",np.corrcoef(arr))\n",
    "    print(\"Standard deviation:\",np.std(arr))\n",
    "    if arr.ndim > 1:\n",
    "        print(\"Error, this array have two or more dimensions\")\n",
    "    \n",
    "arr = np.array([1,5,2,3])\n",
    "\n",
    "printStatisticsOfArray(arr)"
   ]
  },
  {
   "cell_type": "markdown",
   "id": "853b47df",
   "metadata": {},
   "source": [
    "### - Exercici 2 ###"
   ]
  },
  {
   "cell_type": "markdown",
   "id": "348f1858",
   "metadata": {},
   "source": [
    "Crea una funció que et generi un quadrat NxN de nombres aleatoris entre el 0 i el 100."
   ]
  },
  {
   "cell_type": "code",
   "execution_count": 65,
   "id": "0b3e1396",
   "metadata": {},
   "outputs": [
    {
     "name": "stdout",
     "output_type": "stream",
     "text": [
      "[[73 56 49]\n",
      " [ 6 91 87]\n",
      " [51 60  9]]\n"
     ]
    }
   ],
   "source": [
    "quadrat = np.random.randint(0, 100, size=(3, 3))\n",
    "print(quadrat)"
   ]
  },
  {
   "cell_type": "markdown",
   "id": "d0ed6ada",
   "metadata": {},
   "source": [
    "### - Exercici 3 ###"
   ]
  },
  {
   "cell_type": "markdown",
   "id": "875d8825",
   "metadata": {},
   "source": [
    "Crea una funció que donada una taula de dues dimensions, et calculi els totals per fila i els totals per columna."
   ]
  },
  {
   "cell_type": "code",
   "execution_count": 67,
   "id": "4f70b7cb",
   "metadata": {},
   "outputs": [
    {
     "name": "stdout",
     "output_type": "stream",
     "text": [
      "[[73 56 49]\n",
      " [ 6 91 87]\n",
      " [51 60  9]]\n",
      "Total columnas: [130 207 145]\n",
      "Total filas: [178 184 120]\n"
     ]
    }
   ],
   "source": [
    "print(quadrat)\n",
    "print(\"Total columnas:\",quadrat.sum(axis=0))\n",
    "print(\"Total filas:\",quadrat.sum(axis=1))"
   ]
  },
  {
   "cell_type": "markdown",
   "id": "7ea49d12",
   "metadata": {},
   "source": [
    "### - Exercici 4 ###"
   ]
  },
  {
   "cell_type": "markdown",
   "id": "d497fd90",
   "metadata": {},
   "source": [
    "Implementa manualment una funció que calculi el coeficient de correlació. Informa’t-en sobre els seus usos i interpretació."
   ]
  },
  {
   "cell_type": "code",
   "execution_count": 167,
   "id": "76c55c30",
   "metadata": {
    "scrolled": false
   },
   "outputs": [
    {
     "name": "stdout",
     "output_type": "stream",
     "text": [
      "r = 0.88\n",
      "[[1.         0.88270465]\n",
      " [0.88270465 1.        ]]\n"
     ]
    }
   ],
   "source": [
    "x = np.array([33,45,56,56,27,58,47])\n",
    "y = np.array([150,180,200,180,150,180,180])\n",
    "\n",
    "def coefCorrPearson(x,y):\n",
    "    n=x.size\n",
    "    sumX = x.sum()\n",
    "    xQuadrat = x**2\n",
    "    sumxQuadrat = xQuadrat.sum()\n",
    "    sumY = y.sum()\n",
    "    yQuadrat = y**2\n",
    "    sumyQuadrat = yQuadrat.sum()\n",
    "    xy = x*y\n",
    "    sumXY = xy.sum()\n",
    "    primero = (n*sumXY)-((sumX)*(sumY))\n",
    "    raizX = (n*(sumxQuadrat)-((sumX)**2))**(1/2)\n",
    "    raizY = (n*(sumyQuadrat)-((sumY)**2))**(1/2)\n",
    "    r=(primero)/((raizX)*(raizY))\n",
    "    \n",
    "    return r\n",
    "\n",
    "print(\"r = {0:.2f}\".format(coefCorrPearson(x,y)))\n",
    "\n",
    "print(np.corrcoef(x,y))\n"
   ]
  }
 ],
 "metadata": {
  "kernelspec": {
   "display_name": "Python 3 (ipykernel)",
   "language": "python",
   "name": "python3"
  },
  "language_info": {
   "codemirror_mode": {
    "name": "ipython",
    "version": 3
   },
   "file_extension": ".py",
   "mimetype": "text/x-python",
   "name": "python",
   "nbconvert_exporter": "python",
   "pygments_lexer": "ipython3",
   "version": "3.9.12"
  },
  "latex_envs": {
   "LaTeX_envs_menu_present": true,
   "autoclose": false,
   "autocomplete": true,
   "bibliofile": "biblio.bib",
   "cite_by": "apalike",
   "current_citInitial": 1,
   "eqLabelWithNumbers": true,
   "eqNumInitial": 1,
   "hotkeys": {
    "equation": "Ctrl-E",
    "itemize": "Ctrl-I"
   },
   "labels_anchors": false,
   "latex_user_defs": false,
   "report_style_numbering": false,
   "user_envs_cfg": false
  }
 },
 "nbformat": 4,
 "nbformat_minor": 5
}
