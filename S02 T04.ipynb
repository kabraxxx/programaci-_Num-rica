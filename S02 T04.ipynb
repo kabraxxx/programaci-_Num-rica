{
 "cells": [
  {
   "cell_type": "markdown",
   "id": "e4516ccd",
   "metadata": {},
   "source": [
    "# S02 T04: Pràctica amb programació numèrica #"
   ]
  },
  {
   "cell_type": "markdown",
   "id": "86788cb1",
   "metadata": {},
   "source": [
    "Familiaritza't amb la Programació Numèrica a través de la llibreria NumPy."
   ]
  },
  {
   "cell_type": "markdown",
   "id": "283d62fc",
   "metadata": {},
   "source": [
    "## Nivell 1 ##"
   ]
  },
  {
   "cell_type": "markdown",
   "id": "8851d4c4",
   "metadata": {},
   "source": [
    "### - Exercici 1 ###"
   ]
  },
  {
   "cell_type": "markdown",
   "id": "ea162fcf",
   "metadata": {},
   "source": [
    "Crea una funció que donat un Array d’una dimensió, et faci un resum estadístic bàsic de les dades. Si detecta que l’array té més d’una dimensió, ha de mostrar un missatge d’error."
   ]
  },
  {
   "cell_type": "code",
   "execution_count": 200,
   "id": "73ee1fb8",
   "metadata": {},
   "outputs": [
    {
     "name": "stdout",
     "output_type": "stream",
     "text": [
      "ndim: 1\n",
      "len: 4\n",
      "size: 4\n",
      "dtype: int32\n",
      "\n",
      "Measures of Central Tendency\n",
      "media: 2.75\n",
      "mediana 2.5\n",
      "\n",
      "Measures of Dispersion\n",
      "max: 5\n",
      "min: 1\n",
      "range: 4\n",
      "variance: 2.1875\n",
      "Correlation coefficient: 1.0\n",
      "Standard deviation: 1.479019945774904\n"
     ]
    }
   ],
   "source": [
    "import numpy as np\n",
    "\n",
    "def printStatisticsOfArray(arr):\n",
    "    print(\"ndim:\",arr.ndim)\n",
    "    print(\"len:\",len(arr))\n",
    "    print(\"size:\",arr.size)\n",
    "    print(\"dtype:\",arr.dtype)\n",
    "    print(\"\\nMeasures of Central Tendency\")\n",
    "    \n",
    "    print(\"media:\",np.mean(arr))\n",
    "    print(\"mediana\",np.median(arr))\n",
    "    print(\"\\nMeasures of Dispersion\")\n",
    "    \n",
    "    print(\"max:\",np.amax(arr))\n",
    "    print(\"min:\",np.amin(arr))\n",
    "    print(\"range:\",np.ptp(arr))\n",
    "    print(\"variance:\",np.var(arr))  \n",
    "    print(\"Correlation coefficient:\",np.corrcoef(arr))\n",
    "    print(\"Standard deviation:\",np.std(arr))\n",
    "        \n",
    "    if arr.ndim > 1:\n",
    "        print(\"Error, this array have two or more dimensions\")\n",
    "    \n",
    "arr = np.array([1,5,2,3])\n",
    "\n",
    "\n",
    "\n",
    "printStatisticsOfArray(arr)"
   ]
  },
  {
   "cell_type": "markdown",
   "id": "853b47df",
   "metadata": {},
   "source": [
    "### - Exercici 2 ###"
   ]
  },
  {
   "cell_type": "markdown",
   "id": "348f1858",
   "metadata": {},
   "source": [
    "Crea una funció que et generi un quadrat NxN de nombres aleatoris entre el 0 i el 100."
   ]
  },
  {
   "cell_type": "code",
   "execution_count": 195,
   "id": "0b3e1396",
   "metadata": {},
   "outputs": [
    {
     "name": "stdout",
     "output_type": "stream",
     "text": [
      "[[63 17  4]\n",
      " [17 41 88]\n",
      " [94 37 10]]\n"
     ]
    }
   ],
   "source": [
    "def quadrat(n):\n",
    "    size=(n, n)\n",
    "    quadrat = np.random.randint(0, 100, size)    \n",
    "    return quadrat\n",
    "\n",
    "n=3\n",
    "quadrat = quadrat(n)\n",
    "print(quadrat)"
   ]
  },
  {
   "cell_type": "markdown",
   "id": "d0ed6ada",
   "metadata": {},
   "source": [
    "### - Exercici 3 ###"
   ]
  },
  {
   "cell_type": "markdown",
   "id": "875d8825",
   "metadata": {},
   "source": [
    "Crea una funció que donada una taula de dues dimensions, et calculi els totals per fila i els totals per columna."
   ]
  },
  {
   "cell_type": "code",
   "execution_count": 198,
   "id": "4f70b7cb",
   "metadata": {},
   "outputs": [
    {
     "name": "stdout",
     "output_type": "stream",
     "text": [
      "[[63 17  4]\n",
      " [17 41 88]\n",
      " [94 37 10]]\n",
      "Total columnas: [174  95 102]\n",
      "Total filas: [ 84 146 141]\n"
     ]
    }
   ],
   "source": [
    "print(quadrat)\n",
    "\n",
    "def sumaValorsMatriu(quadrat):\n",
    "    totalColumnas = quadrat.sum(axis=0)\n",
    "    totalFilas = quadrat.sum(axis=1)\n",
    "    \n",
    "    return totalColumnas,totalFilas\n",
    "\n",
    "totalColumnas, totalFilas = sumaValorsMatriu(quadrat)\n",
    "print(\"Total columnas:\",totalColumnas)\n",
    "print(\"Total filas:\",totalFilas)"
   ]
  },
  {
   "cell_type": "markdown",
   "id": "7ea49d12",
   "metadata": {},
   "source": [
    "### - Exercici 4 ###"
   ]
  },
  {
   "cell_type": "markdown",
   "id": "d497fd90",
   "metadata": {},
   "source": [
    "Implementa manualment una funció que calculi el coeficient de correlació. Informa’t-en sobre els seus usos i interpretació."
   ]
  },
  {
   "cell_type": "code",
   "execution_count": 199,
   "id": "76c55c30",
   "metadata": {
    "scrolled": false
   },
   "outputs": [
    {
     "name": "stdout",
     "output_type": "stream",
     "text": [
      "r = 0.88\n",
      "[[1.         0.88270465]\n",
      " [0.88270465 1.        ]]\n"
     ]
    }
   ],
   "source": [
    "x = np.array([33,45,56,56,27,58,47])\n",
    "y = np.array([150,180,200,180,150,180,180])\n",
    "\n",
    "def coefCorrPearson(x,y):\n",
    "    n=x.size\n",
    "    sumX = x.sum()\n",
    "    xQuadrat = x**2\n",
    "    sumxQuadrat = xQuadrat.sum()\n",
    "    sumY = y.sum()\n",
    "    yQuadrat = y**2\n",
    "    sumyQuadrat = yQuadrat.sum()\n",
    "    xy = x*y\n",
    "    sumXY = xy.sum()\n",
    "    primero = (n*sumXY)-((sumX)*(sumY))\n",
    "    raizX = (n*(sumxQuadrat)-((sumX)**2))**(1/2)\n",
    "    raizY = (n*(sumyQuadrat)-((sumY)**2))**(1/2)\n",
    "    r=(primero)/((raizX)*(raizY))\n",
    "    \n",
    "    return r\n",
    "\n",
    "print(\"r = {0:.2f}\".format(coefCorrPearson(x,y)))\n",
    "\n",
    "print(np.corrcoef(x,y))\n"
   ]
  }
 ],
 "metadata": {
  "kernelspec": {
   "display_name": "Python 3 (ipykernel)",
   "language": "python",
   "name": "python3"
  },
  "language_info": {
   "codemirror_mode": {
    "name": "ipython",
    "version": 3
   },
   "file_extension": ".py",
   "mimetype": "text/x-python",
   "name": "python",
   "nbconvert_exporter": "python",
   "pygments_lexer": "ipython3",
   "version": "3.9.12"
  },
  "latex_envs": {
   "LaTeX_envs_menu_present": true,
   "autoclose": false,
   "autocomplete": true,
   "bibliofile": "biblio.bib",
   "cite_by": "apalike",
   "current_citInitial": 1,
   "eqLabelWithNumbers": true,
   "eqNumInitial": 1,
   "hotkeys": {
    "equation": "Ctrl-E",
    "itemize": "Ctrl-I"
   },
   "labels_anchors": false,
   "latex_user_defs": false,
   "report_style_numbering": false,
   "user_envs_cfg": false
  }
 },
 "nbformat": 4,
 "nbformat_minor": 5
}
